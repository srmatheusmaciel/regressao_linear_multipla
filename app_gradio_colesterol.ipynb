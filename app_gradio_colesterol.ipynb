{
 "cells": [
  {
   "cell_type": "code",
   "execution_count": 24,
   "metadata": {},
   "outputs": [],
   "source": [
    "import gradio as gr\n",
    "import joblib\n",
    "import pandas as pd"
   ]
  },
  {
   "cell_type": "code",
   "execution_count": 25,
   "metadata": {},
   "outputs": [],
   "source": [
    "modelo = joblib.load('./modelo_colesterol.pkl')"
   ]
  },
  {
   "cell_type": "code",
   "execution_count": 30,
   "metadata": {},
   "outputs": [],
   "source": [
    "def predict(grupo_sanguineo, fumante, nivel_atividade_fisica, idade, peso, altura):\n",
    "    _fumante = \"Sim\" if fumante else \"Não\"\n",
    "    # Criando o DataFrame corretamente\n",
    "    predicao_individual = {\n",
    "        'grupo_sanguineo': [grupo_sanguineo],\n",
    "        'fumante': [_fumante],\n",
    "        'nivel_atividade_fisica': [nivel_atividade_fisica],\n",
    "        'idade': [idade],\n",
    "        'peso': [peso],\n",
    "        'altura': [altura]\n",
    "    }\n",
    "\n",
    "    predict_df = pd.DataFrame(predicao_individual)\n",
    "\n",
    "    # Fazendo a previsão\n",
    "    colesterol = modelo.predict(predict_df)\n",
    "    \n",
    "    return float(colesterol[0])  # Garante que o output seja um número"
   ]
  },
  {
   "cell_type": "code",
   "execution_count": 31,
   "metadata": {},
   "outputs": [],
   "source": [
    "# Criando a interface Gradio corretamente\n",
    "demo = gr.Interface(\n",
    "    fn=predict,\n",
    "    inputs=[\n",
    "        gr.Radio(['A', 'B', 'AB', 'O'], label=\"Grupo Sanguíneo\"),\n",
    "        gr.Checkbox(label=\"Fumante\"),  # Checkbox precisa ser do tipo gr.Checkbox()\n",
    "        gr.Radio(['Baixo', 'Moderado', 'Alto'], label=\"Nível de Atividade Física\"),\n",
    "        gr.Slider(20, 80, step=1, label=\"Idade\"),\n",
    "        gr.Slider(40, 160, step=0.1, label=\"Peso (kg)\"),\n",
    "        gr.Slider(150, 200, step=1, label=\"Altura (cm)\")\n",
    "    ],\n",
    "    outputs=gr.Number(label=\"Colesterol Previsto\")  # Usa gr.Number() para output numérico\n",
    ")"
   ]
  },
  {
   "cell_type": "code",
   "execution_count": 33,
   "metadata": {},
   "outputs": [
    {
     "name": "stdout",
     "output_type": "stream",
     "text": [
      "Rerunning server... use `close()` to stop if you need to change `launch()` parameters.\n",
      "----\n",
      "* Running on public URL: https://a236886693f9ca8eab.gradio.live\n",
      "\n",
      "This share link expires in 72 hours. For free permanent hosting and GPU upgrades, run `gradio deploy` from the terminal in the working directory to deploy to Hugging Face Spaces (https://huggingface.co/spaces)\n"
     ]
    },
    {
     "data": {
      "text/html": [
       "<div><iframe src=\"https://a236886693f9ca8eab.gradio.live\" width=\"100%\" height=\"500\" allow=\"autoplay; camera; microphone; clipboard-read; clipboard-write;\" frameborder=\"0\" allowfullscreen></iframe></div>"
      ],
      "text/plain": [
       "<IPython.core.display.HTML object>"
      ]
     },
     "metadata": {},
     "output_type": "display_data"
    },
    {
     "data": {
      "text/plain": []
     },
     "execution_count": 33,
     "metadata": {},
     "output_type": "execute_result"
    }
   ],
   "source": [
    "# Rodando o Gradio corretamente\n",
    "demo.launch(inbrowser=True, share=True)  # Abre no navegador"
   ]
  }
 ],
 "metadata": {
  "kernelspec": {
   "display_name": "regressao_linear_multipla-mTyRhalm",
   "language": "python",
   "name": "python3"
  },
  "language_info": {
   "codemirror_mode": {
    "name": "ipython",
    "version": 3
   },
   "file_extension": ".py",
   "mimetype": "text/x-python",
   "name": "python",
   "nbconvert_exporter": "python",
   "pygments_lexer": "ipython3",
   "version": "3.12.0"
  }
 },
 "nbformat": 4,
 "nbformat_minor": 2
}
