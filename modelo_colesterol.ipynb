{
 "cells": [
  {
   "cell_type": "markdown",
   "metadata": {},
   "source": [
    "### Importando bibliotecas"
   ]
  },
  {
   "cell_type": "code",
   "execution_count": 2,
   "metadata": {},
   "outputs": [],
   "source": [
    "# pipenv install scikit-learn scipy pandas matplotlib seaborn ipykernel gradio\n",
    "\n",
    "import pandas as pd\n",
    "import matplotlib.pyplot as plt\n",
    "import seaborn as sns\n"
   ]
  },
  {
   "cell_type": "markdown",
   "metadata": {},
   "source": [
    "### Carregando os dados"
   ]
  },
  {
   "cell_type": "code",
   "execution_count": 3,
   "metadata": {},
   "outputs": [],
   "source": [
    "# Carregar o arquivo\n",
    "df_colesterol = pd.read_csv('./datasets/dataset_colesterol.csv')"
   ]
  },
  {
   "cell_type": "code",
   "execution_count": 4,
   "metadata": {},
   "outputs": [
    {
     "name": "stdout",
     "output_type": "stream",
     "text": [
      "<class 'pandas.core.frame.DataFrame'>\n",
      "RangeIndex: 1000 entries, 0 to 999\n",
      "Data columns (total 8 columns):\n",
      " #   Column              Non-Null Count  Dtype  \n",
      "---  ------              --------------  -----  \n",
      " 0   Id                  1000 non-null   int64  \n",
      " 1   Grupo Sanguíneo     996 non-null    object \n",
      " 2   Fumante             997 non-null    object \n",
      " 3   Nível de Atividade  996 non-null    object \n",
      " 4   Idade               997 non-null    float64\n",
      " 5   Peso                997 non-null    float64\n",
      " 6   Altura              997 non-null    float64\n",
      " 7   Colesterol          1000 non-null   float64\n",
      "dtypes: float64(4), int64(1), object(3)\n",
      "memory usage: 62.6+ KB\n"
     ]
    }
   ],
   "source": [
    "# Checar o arquivo\n",
    "df_colesterol.info()"
   ]
  },
  {
   "cell_type": "code",
   "execution_count": 5,
   "metadata": {},
   "outputs": [],
   "source": [
    "# Remover coluna id pois na predição ela não será útil\n",
    "df_colesterol.drop(columns=['Id'], axis=1, inplace=True)"
   ]
  },
  {
   "cell_type": "code",
   "execution_count": 6,
   "metadata": {},
   "outputs": [],
   "source": [
    "# Remover espaço no nome das colunas\n",
    "# removendo nome maiusculo das colunas\n",
    "# Renomear as colunas\n",
    "df_colesterol.columns=[\n",
    "  'grupo_sanguineo',\n",
    "  'fumante',\n",
    "  'nivel_atividade_fisica',\n",
    "  'idade',\n",
    "  'peso',\n",
    "  'altura',\n",
    "  'nivel_colesterol'\n",
    "]\n",
    "\n",
    "# nivel_colesterol será nosso target (variavel dependente)"
   ]
  },
  {
   "cell_type": "code",
   "execution_count": 7,
   "metadata": {},
   "outputs": [
    {
     "data": {
      "text/html": [
       "<div>\n",
       "<style scoped>\n",
       "    .dataframe tbody tr th:only-of-type {\n",
       "        vertical-align: middle;\n",
       "    }\n",
       "\n",
       "    .dataframe tbody tr th {\n",
       "        vertical-align: top;\n",
       "    }\n",
       "\n",
       "    .dataframe thead th {\n",
       "        text-align: right;\n",
       "    }\n",
       "</style>\n",
       "<table border=\"1\" class=\"dataframe\">\n",
       "  <thead>\n",
       "    <tr style=\"text-align: right;\">\n",
       "      <th></th>\n",
       "      <th>grupo_sanguineo</th>\n",
       "      <th>fumante</th>\n",
       "      <th>nivel_atividade_fisica</th>\n",
       "      <th>idade</th>\n",
       "      <th>peso</th>\n",
       "      <th>altura</th>\n",
       "      <th>nivel_colesterol</th>\n",
       "    </tr>\n",
       "  </thead>\n",
       "  <tbody>\n",
       "    <tr>\n",
       "      <th>0</th>\n",
       "      <td>B</td>\n",
       "      <td>Sim</td>\n",
       "      <td>Baixo</td>\n",
       "      <td>33.0</td>\n",
       "      <td>85.1</td>\n",
       "      <td>186.0</td>\n",
       "      <td>199.63</td>\n",
       "    </tr>\n",
       "    <tr>\n",
       "      <th>1</th>\n",
       "      <td>A</td>\n",
       "      <td>Não</td>\n",
       "      <td>Moderado</td>\n",
       "      <td>68.0</td>\n",
       "      <td>105.0</td>\n",
       "      <td>184.0</td>\n",
       "      <td>236.98</td>\n",
       "    </tr>\n",
       "    <tr>\n",
       "      <th>2</th>\n",
       "      <td>O</td>\n",
       "      <td>Não</td>\n",
       "      <td>Alto</td>\n",
       "      <td>25.0</td>\n",
       "      <td>64.8</td>\n",
       "      <td>180.0</td>\n",
       "      <td>161.79</td>\n",
       "    </tr>\n",
       "    <tr>\n",
       "      <th>3</th>\n",
       "      <td>A</td>\n",
       "      <td>Não</td>\n",
       "      <td>Alto</td>\n",
       "      <td>43.0</td>\n",
       "      <td>120.2</td>\n",
       "      <td>167.0</td>\n",
       "      <td>336.24</td>\n",
       "    </tr>\n",
       "    <tr>\n",
       "      <th>4</th>\n",
       "      <td>AB</td>\n",
       "      <td>Não</td>\n",
       "      <td>Baixo</td>\n",
       "      <td>79.0</td>\n",
       "      <td>88.5</td>\n",
       "      <td>175.0</td>\n",
       "      <td>226.23</td>\n",
       "    </tr>\n",
       "  </tbody>\n",
       "</table>\n",
       "</div>"
      ],
      "text/plain": [
       "  grupo_sanguineo fumante nivel_atividade_fisica  idade   peso  altura  \\\n",
       "0               B     Sim                  Baixo   33.0   85.1   186.0   \n",
       "1               A     Não               Moderado   68.0  105.0   184.0   \n",
       "2               O     Não                   Alto   25.0   64.8   180.0   \n",
       "3               A     Não                   Alto   43.0  120.2   167.0   \n",
       "4              AB     Não                  Baixo   79.0   88.5   175.0   \n",
       "\n",
       "   nivel_colesterol  \n",
       "0            199.63  \n",
       "1            236.98  \n",
       "2            161.79  \n",
       "3            336.24  \n",
       "4            226.23  "
      ]
     },
     "execution_count": 7,
     "metadata": {},
     "output_type": "execute_result"
    }
   ],
   "source": [
    "df_colesterol.head(5)"
   ]
  },
  {
   "cell_type": "code",
   "execution_count": 8,
   "metadata": {},
   "outputs": [],
   "source": [
    "# Copiar DF para DF EDA\n",
    "df_colesterol_eda = df_colesterol.copy()"
   ]
  },
  {
   "cell_type": "code",
   "execution_count": 9,
   "metadata": {},
   "outputs": [],
   "source": [
    "# Copiar DF para DF Bucketing\n",
    "df_colesterol_bucketing = df_colesterol.copy()"
   ]
  },
  {
   "cell_type": "markdown",
   "metadata": {},
   "source": [
    "### Realizando EDA"
   ]
  },
  {
   "cell_type": "code",
   "execution_count": 10,
   "metadata": {},
   "outputs": [
    {
     "data": {
      "text/html": [
       "<div>\n",
       "<style scoped>\n",
       "    .dataframe tbody tr th:only-of-type {\n",
       "        vertical-align: middle;\n",
       "    }\n",
       "\n",
       "    .dataframe tbody tr th {\n",
       "        vertical-align: top;\n",
       "    }\n",
       "\n",
       "    .dataframe thead th {\n",
       "        text-align: right;\n",
       "    }\n",
       "</style>\n",
       "<table border=\"1\" class=\"dataframe\">\n",
       "  <thead>\n",
       "    <tr style=\"text-align: right;\">\n",
       "      <th></th>\n",
       "      <th>grupo_sanguineo</th>\n",
       "      <th>fumante</th>\n",
       "      <th>nivel_atividade_fisica</th>\n",
       "      <th>idade</th>\n",
       "      <th>peso</th>\n",
       "      <th>altura</th>\n",
       "      <th>nivel_colesterol</th>\n",
       "    </tr>\n",
       "  </thead>\n",
       "  <tbody>\n",
       "    <tr>\n",
       "      <th>0</th>\n",
       "      <td>B</td>\n",
       "      <td>Sim</td>\n",
       "      <td>Baixo</td>\n",
       "      <td>33.0</td>\n",
       "      <td>85.1</td>\n",
       "      <td>186.0</td>\n",
       "      <td>199.63</td>\n",
       "    </tr>\n",
       "    <tr>\n",
       "      <th>1</th>\n",
       "      <td>A</td>\n",
       "      <td>Não</td>\n",
       "      <td>Moderado</td>\n",
       "      <td>68.0</td>\n",
       "      <td>105.0</td>\n",
       "      <td>184.0</td>\n",
       "      <td>236.98</td>\n",
       "    </tr>\n",
       "    <tr>\n",
       "      <th>2</th>\n",
       "      <td>O</td>\n",
       "      <td>Não</td>\n",
       "      <td>Alto</td>\n",
       "      <td>25.0</td>\n",
       "      <td>64.8</td>\n",
       "      <td>180.0</td>\n",
       "      <td>161.79</td>\n",
       "    </tr>\n",
       "    <tr>\n",
       "      <th>3</th>\n",
       "      <td>A</td>\n",
       "      <td>Não</td>\n",
       "      <td>Alto</td>\n",
       "      <td>43.0</td>\n",
       "      <td>120.2</td>\n",
       "      <td>167.0</td>\n",
       "      <td>336.24</td>\n",
       "    </tr>\n",
       "    <tr>\n",
       "      <th>4</th>\n",
       "      <td>AB</td>\n",
       "      <td>Não</td>\n",
       "      <td>Baixo</td>\n",
       "      <td>79.0</td>\n",
       "      <td>88.5</td>\n",
       "      <td>175.0</td>\n",
       "      <td>226.23</td>\n",
       "    </tr>\n",
       "    <tr>\n",
       "      <th>5</th>\n",
       "      <td>B</td>\n",
       "      <td>Não</td>\n",
       "      <td>Baixo</td>\n",
       "      <td>68.0</td>\n",
       "      <td>66.8</td>\n",
       "      <td>170.0</td>\n",
       "      <td>185.31</td>\n",
       "    </tr>\n",
       "    <tr>\n",
       "      <th>6</th>\n",
       "      <td>A</td>\n",
       "      <td>Sim</td>\n",
       "      <td>Baixo</td>\n",
       "      <td>60.0</td>\n",
       "      <td>117.3</td>\n",
       "      <td>181.0</td>\n",
       "      <td>289.33</td>\n",
       "    </tr>\n",
       "    <tr>\n",
       "      <th>7</th>\n",
       "      <td>O</td>\n",
       "      <td>Sim</td>\n",
       "      <td>Moderado</td>\n",
       "      <td>35.0</td>\n",
       "      <td>86.9</td>\n",
       "      <td>174.0</td>\n",
       "      <td>216.48</td>\n",
       "    </tr>\n",
       "    <tr>\n",
       "      <th>8</th>\n",
       "      <td>O</td>\n",
       "      <td>Não</td>\n",
       "      <td>Baixo</td>\n",
       "      <td>62.0</td>\n",
       "      <td>81.3</td>\n",
       "      <td>166.0</td>\n",
       "      <td>235.30</td>\n",
       "    </tr>\n",
       "    <tr>\n",
       "      <th>9</th>\n",
       "      <td>B</td>\n",
       "      <td>Sim</td>\n",
       "      <td>Alto</td>\n",
       "      <td>44.0</td>\n",
       "      <td>32.7</td>\n",
       "      <td>165.0</td>\n",
       "      <td>97.79</td>\n",
       "    </tr>\n",
       "  </tbody>\n",
       "</table>\n",
       "</div>"
      ],
      "text/plain": [
       "  grupo_sanguineo fumante nivel_atividade_fisica  idade   peso  altura  \\\n",
       "0               B     Sim                  Baixo   33.0   85.1   186.0   \n",
       "1               A     Não               Moderado   68.0  105.0   184.0   \n",
       "2               O     Não                   Alto   25.0   64.8   180.0   \n",
       "3               A     Não                   Alto   43.0  120.2   167.0   \n",
       "4              AB     Não                  Baixo   79.0   88.5   175.0   \n",
       "5               B     Não                  Baixo   68.0   66.8   170.0   \n",
       "6               A     Sim                  Baixo   60.0  117.3   181.0   \n",
       "7               O     Sim               Moderado   35.0   86.9   174.0   \n",
       "8               O     Não                  Baixo   62.0   81.3   166.0   \n",
       "9               B     Sim                   Alto   44.0   32.7   165.0   \n",
       "\n",
       "   nivel_colesterol  \n",
       "0            199.63  \n",
       "1            236.98  \n",
       "2            161.79  \n",
       "3            336.24  \n",
       "4            226.23  \n",
       "5            185.31  \n",
       "6            289.33  \n",
       "7            216.48  \n",
       "8            235.30  \n",
       "9             97.79  "
      ]
     },
     "execution_count": 10,
     "metadata": {},
     "output_type": "execute_result"
    }
   ],
   "source": [
    "# Lidando com valores numéricos\n",
    "# Visualizar os dados\n",
    "df_colesterol_eda.head(10)"
   ]
  },
  {
   "cell_type": "code",
   "execution_count": 11,
   "metadata": {},
   "outputs": [
    {
     "data": {
      "text/plain": [
       "array(['B', 'A', 'O', 'AB', nan], dtype=object)"
      ]
     },
     "execution_count": 11,
     "metadata": {},
     "output_type": "execute_result"
    }
   ],
   "source": [
    "df_colesterol_eda.grupo_sanguineo.unique()"
   ]
  },
  {
   "cell_type": "code",
   "execution_count": 12,
   "metadata": {},
   "outputs": [
    {
     "data": {
      "text/plain": [
       "grupo_sanguineo           4\n",
       "fumante                   3\n",
       "nivel_atividade_fisica    4\n",
       "idade                     3\n",
       "peso                      3\n",
       "altura                    3\n",
       "nivel_colesterol          0\n",
       "dtype: int64"
      ]
     },
     "execution_count": 12,
     "metadata": {},
     "output_type": "execute_result"
    }
   ],
   "source": [
    "# Detectar Valores ausentes\n",
    "df_colesterol_eda.isna().sum()"
   ]
  },
  {
   "cell_type": "code",
   "execution_count": 13,
   "metadata": {},
   "outputs": [
    {
     "data": {
      "text/html": [
       "<div>\n",
       "<style scoped>\n",
       "    .dataframe tbody tr th:only-of-type {\n",
       "        vertical-align: middle;\n",
       "    }\n",
       "\n",
       "    .dataframe tbody tr th {\n",
       "        vertical-align: top;\n",
       "    }\n",
       "\n",
       "    .dataframe thead th {\n",
       "        text-align: right;\n",
       "    }\n",
       "</style>\n",
       "<table border=\"1\" class=\"dataframe\">\n",
       "  <thead>\n",
       "    <tr style=\"text-align: right;\">\n",
       "      <th></th>\n",
       "      <th>idade</th>\n",
       "      <th>peso</th>\n",
       "      <th>altura</th>\n",
       "      <th>nivel_colesterol</th>\n",
       "    </tr>\n",
       "  </thead>\n",
       "  <tbody>\n",
       "    <tr>\n",
       "      <th>count</th>\n",
       "      <td>997.000000</td>\n",
       "      <td>997.000000</td>\n",
       "      <td>997.000000</td>\n",
       "      <td>1000.000000</td>\n",
       "    </tr>\n",
       "    <tr>\n",
       "      <th>mean</th>\n",
       "      <td>49.206620</td>\n",
       "      <td>76.496690</td>\n",
       "      <td>174.889669</td>\n",
       "      <td>199.453260</td>\n",
       "    </tr>\n",
       "    <tr>\n",
       "      <th>std</th>\n",
       "      <td>17.476704</td>\n",
       "      <td>21.439132</td>\n",
       "      <td>8.844703</td>\n",
       "      <td>50.625152</td>\n",
       "    </tr>\n",
       "    <tr>\n",
       "      <th>min</th>\n",
       "      <td>20.000000</td>\n",
       "      <td>15.400000</td>\n",
       "      <td>160.000000</td>\n",
       "      <td>36.260000</td>\n",
       "    </tr>\n",
       "    <tr>\n",
       "      <th>25%</th>\n",
       "      <td>34.000000</td>\n",
       "      <td>61.700000</td>\n",
       "      <td>167.000000</td>\n",
       "      <td>166.345000</td>\n",
       "    </tr>\n",
       "    <tr>\n",
       "      <th>50%</th>\n",
       "      <td>49.000000</td>\n",
       "      <td>75.500000</td>\n",
       "      <td>175.000000</td>\n",
       "      <td>199.455000</td>\n",
       "    </tr>\n",
       "    <tr>\n",
       "      <th>75%</th>\n",
       "      <td>65.000000</td>\n",
       "      <td>90.200000</td>\n",
       "      <td>183.000000</td>\n",
       "      <td>233.785000</td>\n",
       "    </tr>\n",
       "    <tr>\n",
       "      <th>max</th>\n",
       "      <td>79.000000</td>\n",
       "      <td>158.100000</td>\n",
       "      <td>190.000000</td>\n",
       "      <td>372.670000</td>\n",
       "    </tr>\n",
       "  </tbody>\n",
       "</table>\n",
       "</div>"
      ],
      "text/plain": [
       "            idade        peso      altura  nivel_colesterol\n",
       "count  997.000000  997.000000  997.000000       1000.000000\n",
       "mean    49.206620   76.496690  174.889669        199.453260\n",
       "std     17.476704   21.439132    8.844703         50.625152\n",
       "min     20.000000   15.400000  160.000000         36.260000\n",
       "25%     34.000000   61.700000  167.000000        166.345000\n",
       "50%     49.000000   75.500000  175.000000        199.455000\n",
       "75%     65.000000   90.200000  183.000000        233.785000\n",
       "max     79.000000  158.100000  190.000000        372.670000"
      ]
     },
     "execution_count": 13,
     "metadata": {},
     "output_type": "execute_result"
    }
   ],
   "source": [
    "# vericar as  Medidas estatísticas do DF\n",
    "df_colesterol_eda.describe()"
   ]
  },
  {
   "cell_type": "code",
   "execution_count": 14,
   "metadata": {},
   "outputs": [],
   "source": [
    "# Coletar medidas das variaveis categoricas pela moda\n",
    "moda_grupo_sang = df_colesterol_eda.grupo_sanguineo.mode()\n",
    "moda_fumante = df_colesterol_eda.fumante.mode()\n",
    "moda_nivel_atividade = df_colesterol_eda.nivel_atividade_fisica.mode()"
   ]
  },
  {
   "cell_type": "code",
   "execution_count": 15,
   "metadata": {},
   "outputs": [],
   "source": [
    "# Coletar medidas das variaveis numericas pela mediana\n",
    "mediana_idade = df_colesterol_eda.idade.median()\n",
    "mediana_peso = df_colesterol_eda.peso.median()\n",
    "mediana_altura = df_colesterol_eda.altura.median()"
   ]
  },
  {
   "cell_type": "code",
   "execution_count": 16,
   "metadata": {},
   "outputs": [],
   "source": [
    "# Inputar valores ausentes\n",
    "df_colesterol_eda.fillna(value={'grupo_sanguineo': moda_grupo_sang[0],\n",
    "                                'fumante': moda_fumante[0],\n",
    "                                'nivel_atividade_fisica': moda_nivel_atividade[0],\n",
    "                                'idade': mediana_idade,\n",
    "                                'peso':mediana_peso,\n",
    "                                'altura': mediana_altura}, inplace=True)"
   ]
  },
  {
   "cell_type": "code",
   "execution_count": 17,
   "metadata": {},
   "outputs": [
    {
     "data": {
      "text/plain": [
       "grupo_sanguineo           0\n",
       "fumante                   0\n",
       "nivel_atividade_fisica    0\n",
       "idade                     0\n",
       "peso                      0\n",
       "altura                    0\n",
       "nivel_colesterol          0\n",
       "dtype: int64"
      ]
     },
     "execution_count": 17,
     "metadata": {},
     "output_type": "execute_result"
    }
   ],
   "source": [
    "# Visualizar os dados após substituição de valores ausentes\n",
    "# Detectar Valores ausentes\n",
    "df_colesterol_eda.isna().sum()"
   ]
  },
  {
   "cell_type": "code",
   "execution_count": 18,
   "metadata": {},
   "outputs": [],
   "source": [
    "# Converter o tipo das variaveis idade e altura de float para inteiro\n",
    "df_colesterol_eda.idade = df_colesterol_eda.idade.astype(int)\n",
    "df_colesterol_eda.altura = df_colesterol_eda.altura.astype(int)"
   ]
  },
  {
   "cell_type": "code",
   "execution_count": 19,
   "metadata": {},
   "outputs": [
    {
     "name": "stdout",
     "output_type": "stream",
     "text": [
      "<class 'pandas.core.frame.DataFrame'>\n",
      "RangeIndex: 1000 entries, 0 to 999\n",
      "Data columns (total 7 columns):\n",
      " #   Column                  Non-Null Count  Dtype  \n",
      "---  ------                  --------------  -----  \n",
      " 0   grupo_sanguineo         1000 non-null   object \n",
      " 1   fumante                 1000 non-null   object \n",
      " 2   nivel_atividade_fisica  1000 non-null   object \n",
      " 3   idade                   1000 non-null   int64  \n",
      " 4   peso                    1000 non-null   float64\n",
      " 5   altura                  1000 non-null   int64  \n",
      " 6   nivel_colesterol        1000 non-null   float64\n",
      "dtypes: float64(2), int64(2), object(3)\n",
      "memory usage: 54.8+ KB\n"
     ]
    }
   ],
   "source": [
    "# Estrutura do DF\n",
    "df_colesterol_eda.info()"
   ]
  },
  {
   "cell_type": "code",
   "execution_count": 20,
   "metadata": {},
   "outputs": [
    {
     "data": {
      "text/html": [
       "<div>\n",
       "<style scoped>\n",
       "    .dataframe tbody tr th:only-of-type {\n",
       "        vertical-align: middle;\n",
       "    }\n",
       "\n",
       "    .dataframe tbody tr th {\n",
       "        vertical-align: top;\n",
       "    }\n",
       "\n",
       "    .dataframe thead th {\n",
       "        text-align: right;\n",
       "    }\n",
       "</style>\n",
       "<table border=\"1\" class=\"dataframe\">\n",
       "  <thead>\n",
       "    <tr style=\"text-align: right;\">\n",
       "      <th></th>\n",
       "      <th>grupo_sanguineo</th>\n",
       "      <th>fumante</th>\n",
       "      <th>nivel_atividade_fisica</th>\n",
       "      <th>idade</th>\n",
       "      <th>peso</th>\n",
       "      <th>altura</th>\n",
       "      <th>nivel_colesterol</th>\n",
       "    </tr>\n",
       "  </thead>\n",
       "  <tbody>\n",
       "    <tr>\n",
       "      <th>0</th>\n",
       "      <td>B</td>\n",
       "      <td>Sim</td>\n",
       "      <td>Baixo</td>\n",
       "      <td>33</td>\n",
       "      <td>85.1</td>\n",
       "      <td>186</td>\n",
       "      <td>199.63</td>\n",
       "    </tr>\n",
       "    <tr>\n",
       "      <th>1</th>\n",
       "      <td>A</td>\n",
       "      <td>Não</td>\n",
       "      <td>Moderado</td>\n",
       "      <td>68</td>\n",
       "      <td>105.0</td>\n",
       "      <td>184</td>\n",
       "      <td>236.98</td>\n",
       "    </tr>\n",
       "    <tr>\n",
       "      <th>2</th>\n",
       "      <td>O</td>\n",
       "      <td>Não</td>\n",
       "      <td>Alto</td>\n",
       "      <td>25</td>\n",
       "      <td>64.8</td>\n",
       "      <td>180</td>\n",
       "      <td>161.79</td>\n",
       "    </tr>\n",
       "    <tr>\n",
       "      <th>3</th>\n",
       "      <td>A</td>\n",
       "      <td>Não</td>\n",
       "      <td>Alto</td>\n",
       "      <td>43</td>\n",
       "      <td>120.2</td>\n",
       "      <td>167</td>\n",
       "      <td>336.24</td>\n",
       "    </tr>\n",
       "    <tr>\n",
       "      <th>4</th>\n",
       "      <td>AB</td>\n",
       "      <td>Não</td>\n",
       "      <td>Baixo</td>\n",
       "      <td>79</td>\n",
       "      <td>88.5</td>\n",
       "      <td>175</td>\n",
       "      <td>226.23</td>\n",
       "    </tr>\n",
       "    <tr>\n",
       "      <th>5</th>\n",
       "      <td>B</td>\n",
       "      <td>Não</td>\n",
       "      <td>Baixo</td>\n",
       "      <td>68</td>\n",
       "      <td>66.8</td>\n",
       "      <td>170</td>\n",
       "      <td>185.31</td>\n",
       "    </tr>\n",
       "    <tr>\n",
       "      <th>6</th>\n",
       "      <td>A</td>\n",
       "      <td>Sim</td>\n",
       "      <td>Baixo</td>\n",
       "      <td>60</td>\n",
       "      <td>117.3</td>\n",
       "      <td>181</td>\n",
       "      <td>289.33</td>\n",
       "    </tr>\n",
       "    <tr>\n",
       "      <th>7</th>\n",
       "      <td>O</td>\n",
       "      <td>Sim</td>\n",
       "      <td>Moderado</td>\n",
       "      <td>35</td>\n",
       "      <td>86.9</td>\n",
       "      <td>174</td>\n",
       "      <td>216.48</td>\n",
       "    </tr>\n",
       "    <tr>\n",
       "      <th>8</th>\n",
       "      <td>O</td>\n",
       "      <td>Não</td>\n",
       "      <td>Baixo</td>\n",
       "      <td>62</td>\n",
       "      <td>81.3</td>\n",
       "      <td>166</td>\n",
       "      <td>235.30</td>\n",
       "    </tr>\n",
       "    <tr>\n",
       "      <th>9</th>\n",
       "      <td>B</td>\n",
       "      <td>Sim</td>\n",
       "      <td>Alto</td>\n",
       "      <td>44</td>\n",
       "      <td>32.7</td>\n",
       "      <td>165</td>\n",
       "      <td>97.79</td>\n",
       "    </tr>\n",
       "  </tbody>\n",
       "</table>\n",
       "</div>"
      ],
      "text/plain": [
       "  grupo_sanguineo fumante nivel_atividade_fisica  idade   peso  altura  \\\n",
       "0               B     Sim                  Baixo     33   85.1     186   \n",
       "1               A     Não               Moderado     68  105.0     184   \n",
       "2               O     Não                   Alto     25   64.8     180   \n",
       "3               A     Não                   Alto     43  120.2     167   \n",
       "4              AB     Não                  Baixo     79   88.5     175   \n",
       "5               B     Não                  Baixo     68   66.8     170   \n",
       "6               A     Sim                  Baixo     60  117.3     181   \n",
       "7               O     Sim               Moderado     35   86.9     174   \n",
       "8               O     Não                  Baixo     62   81.3     166   \n",
       "9               B     Sim                   Alto     44   32.7     165   \n",
       "\n",
       "   nivel_colesterol  \n",
       "0            199.63  \n",
       "1            236.98  \n",
       "2            161.79  \n",
       "3            336.24  \n",
       "4            226.23  \n",
       "5            185.31  \n",
       "6            289.33  \n",
       "7            216.48  \n",
       "8            235.30  \n",
       "9             97.79  "
      ]
     },
     "execution_count": 20,
     "metadata": {},
     "output_type": "execute_result"
    }
   ],
   "source": [
    "# visualizar os dados\n",
    "df_colesterol_eda.head(10)"
   ]
  },
  {
   "cell_type": "code",
   "execution_count": 21,
   "metadata": {},
   "outputs": [
    {
     "data": {
      "text/plain": [
       "<Axes: xlabel='grupo_sanguineo', ylabel='nivel_colesterol'>"
      ]
     },
     "execution_count": 21,
     "metadata": {},
     "output_type": "execute_result"
    },
    {
     "data": {
      "image/png": "[encoded data removed]",
      "text/plain": [
       "<Figure size 640x480 with 1 Axes>"
      ]
     },
     "metadata": {},
     "output_type": "display_data"
    }
   ],
   "source": [
    "# Verificar / detectar outliers\n",
    "sns.boxplot(x='grupo_sanguineo', y='nivel_colesterol', data=df_colesterol_eda)"
   ]
  },
  {
   "cell_type": "code",
   "execution_count": 22,
   "metadata": {},
   "outputs": [
    {
     "data": {
      "text/plain": [
       "<Axes: xlabel='peso'>"
      ]
     },
     "execution_count": 22,
     "metadata": {},
     "output_type": "execute_result"
    },
    {
     "data": {
      "image/png": "[encoded data removed]",
      "text/plain": [
       "<Figure size 640x480 with 1 Axes>"
      ]
     },
     "metadata": {},
     "output_type": "display_data"
    }
   ],
   "source": [
    "# Verificar / detectar outliers\n",
    "sns.boxplot(x='peso', data=df_colesterol_eda)"
   ]
  },
  {
   "cell_type": "code",
   "execution_count": 23,
   "metadata": {},
   "outputs": [
    {
     "data": {
      "text/plain": [
       "np.int64(37)"
      ]
     },
     "execution_count": 23,
     "metadata": {},
     "output_type": "execute_result"
    }
   ],
   "source": [
    "# Considerando o outlier de pessoas com peso extremamente baixo\n",
    "# Como o publico está entre 20 e 79 anos, podemos considerar um erro de input\n",
    "\n",
    "#Vamos filtrar o publico a ser removido\n",
    "df_colesterol_eda[df_colesterol_eda['peso'] < 40].peso.count()"
   ]
  },
  {
   "cell_type": "code",
   "execution_count": 24,
   "metadata": {},
   "outputs": [],
   "source": [
    "# Remover publico do dataframe\n",
    "df_colesterol_eda.drop(df_colesterol_eda[df_colesterol_eda['peso'] < 40]\n",
    "                       .index, axis=0, inplace=True)"
   ]
  },
  {
   "cell_type": "code",
   "execution_count": 25,
   "metadata": {},
   "outputs": [
    {
     "name": "stdout",
     "output_type": "stream",
     "text": [
      "<class 'pandas.core.frame.DataFrame'>\n",
      "Index: 963 entries, 0 to 999\n",
      "Data columns (total 7 columns):\n",
      " #   Column                  Non-Null Count  Dtype  \n",
      "---  ------                  --------------  -----  \n",
      " 0   grupo_sanguineo         963 non-null    object \n",
      " 1   fumante                 963 non-null    object \n",
      " 2   nivel_atividade_fisica  963 non-null    object \n",
      " 3   idade                   963 non-null    int64  \n",
      " 4   peso                    963 non-null    float64\n",
      " 5   altura                  963 non-null    int64  \n",
      " 6   nivel_colesterol        963 non-null    float64\n",
      "dtypes: float64(2), int64(2), object(3)\n",
      "memory usage: 60.2+ KB\n"
     ]
    }
   ],
   "source": [
    "# Verificando novamente a estrutura após o drop das linhas\n",
    "df_colesterol_eda.info()"
   ]
  },
  {
   "cell_type": "code",
   "execution_count": 26,
   "metadata": {},
   "outputs": [
    {
     "data": {
      "text/plain": [
       "<Axes: xlabel='peso'>"
      ]
     },
     "execution_count": 26,
     "metadata": {},
     "output_type": "execute_result"
    },
    {
     "data": {
      "image/png": "[encoded data removed]",
      "text/plain": [
       "<Figure size 640x480 with 1 Axes>"
      ]
     },
     "metadata": {},
     "output_type": "display_data"
    }
   ],
   "source": [
    "# Verificar se o outlier da parte inferior foi removida\n",
    "sns.boxplot(x='peso', data=df_colesterol_eda)"
   ]
  },
  {
   "cell_type": "code",
   "execution_count": 27,
   "metadata": {},
   "outputs": [
    {
     "data": {
      "text/plain": [
       "<Axes: xlabel='altura'>"
      ]
     },
     "execution_count": 27,
     "metadata": {},
     "output_type": "execute_result"
    },
    {
     "data": {
      "image/png": "[encoded data removed]",
      "text/plain": [
       "<Figure size 640x480 with 1 Axes>"
      ]
     },
     "metadata": {},
     "output_type": "display_data"
    }
   ],
   "source": [
    "# Verificar / detectar outliers - Altura\n",
    "sns.boxplot(x='altura', data=df_colesterol_eda)"
   ]
  },
  {
   "cell_type": "code",
   "execution_count": 28,
   "metadata": {},
   "outputs": [
    {
     "data": {
      "text/plain": [
       "<Axes: xlabel='nivel_colesterol'>"
      ]
     },
     "execution_count": 28,
     "metadata": {},
     "output_type": "execute_result"
    },
    {
     "data": {
      "image/png": "[encoded data removed]",
      "text/plain": [
       "<Figure size 640x480 with 1 Axes>"
      ]
     },
     "metadata": {},
     "output_type": "display_data"
    }
   ],
   "source": [
    "# Verificar / detectar outliers\n",
    "sns.boxplot(x='nivel_colesterol', data=df_colesterol_eda)"
   ]
  },
  {
   "cell_type": "code",
   "execution_count": 29,
   "metadata": {},
   "outputs": [
    {
     "data": {
      "text/plain": [
       "<Axes: xlabel='grupo_sanguineo', ylabel='nivel_colesterol'>"
      ]
     },
     "execution_count": 29,
     "metadata": {},
     "output_type": "execute_result"
    },
    {
     "data": {
      "image/png": "[encoded data removed]",
      "text/plain": [
       "<Figure size 640x480 with 1 Axes>"
      ]
     },
     "metadata": {},
     "output_type": "display_data"
    }
   ],
   "source": [
    "# Cruzamento de Variaveis Categoricas com nivel de Colesterol\n",
    "sns.boxplot(data=df_colesterol_eda,x='grupo_sanguineo', y='nivel_colesterol' )"
   ]
  },
  {
   "cell_type": "code",
   "execution_count": 30,
   "metadata": {},
   "outputs": [
    {
     "data": {
      "text/plain": [
       "<Axes: xlabel='fumante', ylabel='nivel_colesterol'>"
      ]
     },
     "execution_count": 30,
     "metadata": {},
     "output_type": "execute_result"
    },
    {
     "data": {
      "image/png": "[encoded data removed]",
      "text/plain": [
       "<Figure size 640x480 with 1 Axes>"
      ]
     },
     "metadata": {},
     "output_type": "display_data"
    }
   ],
   "source": [
    "# Cruzamento de Variaveis Categoricas com nivel de Colesterol\n",
    "sns.boxplot(data=df_colesterol_eda,x='fumante', y='nivel_colesterol' )"
   ]
  },
  {
   "cell_type": "code",
   "execution_count": 31,
   "metadata": {},
   "outputs": [
    {
     "data": {
      "text/plain": [
       "<Axes: xlabel='nivel_atividade_fisica', ylabel='nivel_colesterol'>"
      ]
     },
     "execution_count": 31,
     "metadata": {},
     "output_type": "execute_result"
    },
    {
     "data": {
      "image/png": "[encoded data removed]",
      "text/plain": [
       "<Figure size 640x480 with 1 Axes>"
      ]
     },
     "metadata": {},
     "output_type": "display_data"
    }
   ],
   "source": [
    "# Cruzamento de Variaveis Categoricas com nivel de Colesterol\n",
    "sns.boxplot(data=df_colesterol_eda,x='nivel_atividade_fisica', y='nivel_colesterol' )"
   ]
  },
  {
   "cell_type": "code",
   "execution_count": null,
   "metadata": {},
   "outputs": [],
   "source": []
  }
 ],
 "metadata": {
  "kernelspec": {
   "display_name": "regressao_linear_multipla-4q4xPO5-",
   "language": "python",
   "name": "python3"
  },
  "language_info": {
   "codemirror_mode": {
    "name": "ipython",
    "version": 3
   },
   "file_extension": ".py",
   "mimetype": "text/x-python",
   "name": "python",
   "nbconvert_exporter": "python",
   "pygments_lexer": "ipython3",
   "version": "3.12.3"
  }
 },
 "nbformat": 4,
 "nbformat_minor": 2
}
